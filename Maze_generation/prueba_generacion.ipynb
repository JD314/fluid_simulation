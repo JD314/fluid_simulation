{
 "cells": [
  {
   "cell_type": "code",
   "execution_count": 14,
   "id": "2aaee370",
   "metadata": {},
   "outputs": [],
   "source": [
    "import maze_generation as mg\n",
    "import matplotlib.pyplot as plt\n",
    "import cv2\n",
    "import numpy as np"
   ]
  },
  {
   "cell_type": "code",
   "execution_count": 15,
   "id": "59f9badb",
   "metadata": {},
   "outputs": [
    {
     "name": "stdout",
     "output_type": "stream",
     "text": [
      "algorithm: backtracking\n",
      "width: 21\n",
      "height: 21\n",
      "start: side 3, relative 0.5\n",
      "end: side 3, relative 0.25\n",
      "\n"
     ]
    },
    {
     "data": {
      "image/png": "[encoded data removed]",
      "text/plain": [
       "<Figure size 640x480 with 1 Axes>"
      ]
     },
     "metadata": {},
     "output_type": "display_data"
    }
   ],
   "source": [
    "# -- Guardar el laberinto en un archivo png --\n",
    "ruta = \"C:/Users/JD/Desktop/fluid_sim/Assets/Mazes_nb\"\n",
    "maze = \"maze_1\"\n",
    "metadata, matriz = mg.read_maze(\"./output/\" + maze + \".txt\")\n",
    "plt.imshow(matriz, cmap='gray_r')\n",
    "plt.axis('off')\n",
    "plt.savefig(ruta + \"/\" + maze + \".png\", transparent=True)\n",
    "\n",
    "# -- Hacer blanco transparente y sobreescribir la imagen original --\n",
    "from PIL import Image\n",
    "\n",
    "img_path = ruta + \"/\" + maze + \".png\"\n",
    "img = Image.open(img_path).convert(\"RGBA\")\n",
    "datas = img.getdata()\n",
    "\n",
    "nueva_data = []\n",
    "for item in datas:\n",
    "    # Detectar blanco (RGB 255,255,255) y ponerlo transparente\n",
    "    if item[0] > 250 and item[1] > 250 and item[2] > 250:\n",
    "        nueva_data.append((255, 255, 255, 0))  # transparente\n",
    "    else:\n",
    "        nueva_data.append(item)\n",
    "\n",
    "img.putdata(nueva_data)\n",
    "img.save(img_path, \"PNG\")  # Sobrescribe la imagen original\n",
    "\n",
    "print(metadata)"
   ]
  },
  {
   "cell_type": "code",
   "execution_count": null,
   "id": "e41caff6",
   "metadata": {},
   "outputs": [
    {
     "name": "stdout",
     "output_type": "stream",
     "text": [
      "Archivo CSV guardado en: C:/Users/JD/Desktop/fluid_sim/Assets/Mazes_csv/maze_2.csv\n"
     ]
    }
   ],
   "source": [
    "# Reescalar la matriz a 42x42, conectar obstáculos, y dejar parámetros de reescalado final\n",
    "\n",
    "import csv\n",
    "\n",
    "ruta_guardado = \"C:/Users/JD/Desktop/fluid_sim/Assets/Mazes_csv\"\n",
    "maze = \"maze_2\"\n",
    "metadata, matriz = mg.read_maze(\"./output/\" + maze + \".txt\")\n",
    "\n",
    "# Reescalar la matriz a 42x42\n",
    "nuevo_ancho = 21\n",
    "nuevo_alto = 21\n",
    "\n",
    "# NOTA IMPORTANTE:\n",
    "# Si el laberinto se ve muy grande en Unity, debes usar una escala más pequeña.\n",
    "# Por ejemplo, prueba con 0.001 o incluso 0.0005.\n",
    "# Si los obstáculos desaparecen, sube un poco la escala hasta que se vean pero no sean gigantes.\n",
    "\n",
    "escala_x = 2\n",
    "escala_y = escala_x\n",
    "\n",
    "matriz = cv2.resize(matriz, (nuevo_ancho, nuevo_alto), interpolation=cv2.INTER_NEAREST)\n",
    "\n",
    "# Conectar obstáculos: si hay dos obstáculos adyacentes (vertical u horizontal), rellenar entre ellos\n",
    "def conectar_obstaculos(matriz):\n",
    "    alto, ancho = matriz.shape\n",
    "    nueva_matriz = matriz.copy()\n",
    "    for y in range(alto):\n",
    "        for x in range(ancho):\n",
    "            if matriz[y, x] == 1:\n",
    "                # Conectar horizontalmente\n",
    "                if x < ancho - 1 and matriz[y, x+1] == 1:\n",
    "                    for i in range(x+1, ancho):\n",
    "                        if matriz[y, i] == 1:\n",
    "                            nueva_matriz[y, x+1:i] = 1\n",
    "                            break\n",
    "                        elif matriz[y, i] == 0:\n",
    "                            break\n",
    "                # Conectar verticalmente\n",
    "                if y < alto - 1 and matriz[y+1, x] == 1:\n",
    "                    for j in range(y+1, alto):\n",
    "                        if matriz[j, x] == 1:\n",
    "                            nueva_matriz[y+1:j, x] = 1\n",
    "                            break\n",
    "                        elif matriz[j, x] == 0:\n",
    "                            break\n",
    "    return nueva_matriz\n",
    "\n",
    "matriz = conectar_obstaculos(matriz)\n",
    "\n",
    "alto, ancho = matriz.shape\n",
    "centro_x = (ancho - 1) / 2.0\n",
    "centro_y = (alto - 1) / 2.0\n",
    "\n",
    "csv_rows = []\n",
    "for y in range(alto):\n",
    "    for x in range(ancho):\n",
    "        valor = matriz[y, x]\n",
    "        # Aplica el reescalado final\n",
    "        pos_x = (x - centro_x) * escala_x\n",
    "        pos_y = (centro_y - y) * escala_y  # y invertido para que la imagen no salga \"al revés\"\n",
    "        # Para evitar problemas de la coma, dejamos el punto decimal estándar\n",
    "        if valor == 1:\n",
    "            fila = [\n",
    "                'o',\n",
    "                f\"{pos_x:.0f}\",\n",
    "                f\"{pos_y:.0f}\",\n",
    "                f\"{escala_x:.0f}\",\n",
    "                f\"{escala_y:.0f}\"\n",
    "            ]\n",
    "            csv_rows.append(fila)\n",
    "        elif valor == 0:\n",
    "            fila = [\n",
    "                's',\n",
    "                f\"{pos_x:.0f}\",\n",
    "                f\"{pos_y:.0f}\",\n",
    "                f\"{escala_x:.0f}\",\n",
    "                f\"{escala_y:.0f}\"\n",
    "            ]\n",
    "            csv_rows.append(fila)\n",
    "\n",
    "csv_path = f\"{ruta_guardado}/{maze}.csv\"\n",
    "with open(csv_path, mode='w', newline='') as f:\n",
    "    writer = csv.writer(f)\n",
    "    writer.writerow(['class', 'pos_x', 'pos_y', 'width', 'height'])\n",
    "    writer.writerows(csv_rows)\n",
    "\n",
    "print(f\"Archivo CSV guardado en: {csv_path}\")\n"
   ]
  }
 ],
 "metadata": {
  "kernelspec": {
   "display_name": "Python 3",
   "language": "python",
   "name": "python3"
  },
  "language_info": {
   "codemirror_mode": {
    "name": "ipython",
    "version": 3
   },
   "file_extension": ".py",
   "mimetype": "text/x-python",
   "name": "python",
   "nbconvert_exporter": "python",
   "pygments_lexer": "ipython3",
   "version": "3.12.4"
  }
 },
 "nbformat": 4,
 "nbformat_minor": 5
}
